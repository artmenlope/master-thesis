{
 "cells": [
  {
   "cell_type": "code",
   "execution_count": 1,
   "id": "b54da579",
   "metadata": {},
   "outputs": [],
   "source": [
    "from qiskit import IBMQ, transpiler, transpile, QuantumCircuit, schedule\n",
    "from qiskit.visualization import plot_gate_map\n",
    "from qiskit.visualization.pulse_v2 import IQXStandard, draw\n",
    "from qiskit.tools.jupyter import *\n",
    "from IPython.display import display, Math\n",
    "from datetime import datetime\n",
    "import numpy as np\n",
    "import matplotlib.pyplot as plt"
   ]
  },
  {
   "cell_type": "code",
   "execution_count": 2,
   "id": "b717e2a8",
   "metadata": {},
   "outputs": [],
   "source": [
    "provider = IBMQ.enable_account('51057eaa66f88664f054b9a73766c53de4859a3e97c7f912cd975db51e3c9f67f9207c2833555417a8af276f7109783931401df61da2a785d595e8f429ce4309')"
   ]
  },
  {
   "cell_type": "markdown",
   "id": "8df49a5d",
   "metadata": {},
   "source": [
    "# ibmq_lima general info"
   ]
  },
  {
   "cell_type": "code",
   "execution_count": 4,
   "id": "b48f014e",
   "metadata": {
    "scrolled": true
   },
   "outputs": [
    {
     "data": {
      "application/vnd.jupyter.widget-view+json": {
       "model_id": "3e61552c6c2144b8b8ff9ada972423b5",
       "version_major": 2,
       "version_minor": 0
      },
      "text/plain": [
       "VBox(children=(HTML(value=\"<h1 style='color:#ffffff;background-color:#000000;padding-top: 1%;padding-bottom: 1…"
      ]
     },
     "metadata": {},
     "output_type": "display_data"
    },
    {
     "data": {
      "text/plain": [
       "<IBMQBackend('ibmq_lima') from IBMQ(hub='ibm-q', group='open', project='main')>"
      ]
     },
     "execution_count": 4,
     "metadata": {},
     "output_type": "execute_result"
    }
   ],
   "source": [
    "backend = provider.get_backend('ibmq_lima')\n",
    "backend"
   ]
  },
  {
   "cell_type": "markdown",
   "id": "4f034c9e",
   "metadata": {},
   "source": [
    "# Basis gates"
   ]
  },
  {
   "cell_type": "code",
   "execution_count": 5,
   "id": "8326eb3f",
   "metadata": {},
   "outputs": [
    {
     "data": {
      "text/plain": [
       "['id', 'rz', 'sx', 'x', 'cx', 'reset']"
      ]
     },
     "execution_count": 5,
     "metadata": {},
     "output_type": "execute_result"
    }
   ],
   "source": [
    "# Get the device basis gates\n",
    "\n",
    "basis_gates = backend.configuration().basis_gates\n",
    "basis_gates"
   ]
  },
  {
   "cell_type": "markdown",
   "id": "fb668f7f",
   "metadata": {},
   "source": [
    "# T1 and T2 times"
   ]
  },
  {
   "cell_type": "code",
   "execution_count": 6,
   "id": "4d5406e3",
   "metadata": {},
   "outputs": [
    {
     "name": "stdout",
     "output_type": "stream",
     "text": [
      "Qubit 0\n",
      "          T1 = 130.31532130792272 us\n",
      "          T2 = 211.42475711918954 us\n",
      "Qubit 1\n",
      "          T1 =  73.11076527625742 us\n",
      "          T2 =  77.68839669513608 us\n",
      "Qubit 2\n",
      "          T1 =  71.81640620298018 us\n",
      "          T2 = 116.41052696043943 us\n",
      "Qubit 3\n",
      "          T1 =  80.42816211303352 us\n",
      "          T2 =   86.3955090285432 us\n",
      "Qubit 4\n",
      "          T1 = 22.848537195304715 us\n",
      "          T2 = 23.705788533202295 us\n"
     ]
    }
   ],
   "source": [
    "# T1 and T2 times of each qubit\n",
    "\n",
    "for i in range(backend.configuration().num_qubits):\n",
    "    qubit_data = backend.properties().qubits[i]\n",
    "    T1_dict = qubit_data[0].to_dict()\n",
    "    T2_dict = qubit_data[1].to_dict()\n",
    "    T1_value = T1_dict[\"value\"]\n",
    "    T2_value = T2_dict[\"value\"]\n",
    "    print(\"Qubit\",i)\n",
    "    print(\"{: >14} {: >21}\".format(\"T1 =\", str(T1_value)+\" us\"))\n",
    "    print(\"{: >14} {: >21}\".format(\"T2 =\", str(T2_value)+\" us\"))\n",
    "    "
   ]
  },
  {
   "cell_type": "markdown",
   "id": "017e39d0",
   "metadata": {},
   "source": [
    "# Gates duration (for Table III)\n",
    "https://qiskit.org/documentation/stubs/qiskit.transpiler.InstructionDurations.get.html\n",
    "https://qiskit.org/documentation/tutorials/circuits_advanced/08_gathering_system_information."
   ]
  },
  {
   "cell_type": "code",
   "execution_count": 7,
   "id": "a528d3c3",
   "metadata": {},
   "outputs": [
    {
     "name": "stdout",
     "output_type": "stream",
     "text": [
      "Time scale of the backend: dt =    0.0002222222222222222 us =    0.2222222222222222 ns\n",
      "\n",
      "              I gate duration =     0.035555555555555556 us =                   160 dt\n",
      "              Z gate duration =                      0.0 us =                     0 dt\n",
      "             SX gate duration =     0.035555555555555556 us =                   160 dt\n",
      "              X gate duration =     0.035555555555555556 us =                   160 dt\n",
      "              Y gate duration =      0.07111111111111111 us =                   320 dt\n",
      "              H gate duration =     0.035555555555555556 us =                   160 dt\n",
      "      Measurement duration q1 =        5.351111111111111 us =                 24080 dt\n",
      "      Measurement duration q3 =        5.351111111111111 us =                 24080 dt\n",
      "\n",
      "    CNOT [0, 1] gate duration =      0.30577777777777776 us =                  1376 dt\n",
      "    CNOT [1, 0] gate duration =       0.3413333333333333 us =                  1536 dt\n",
      "    CNOT [1, 2] gate duration =       0.3342222222222222 us =                  1504 dt\n",
      "    CNOT [1, 3] gate duration =       0.4977777777777777 us =                  2240 dt\n",
      "    CNOT [2, 1] gate duration =      0.29866666666666664 us =                  1344 dt\n",
      "    CNOT [3, 1] gate duration =       0.4622222222222222 us =                  2080 dt\n",
      "    CNOT [3, 4] gate duration =       0.5191111111111112 us =                  2336 dt\n",
      "    CNOT [4, 3] gate duration =       0.4835555555555555 us =                  2176 dt\n"
     ]
    }
   ],
   "source": [
    "# Get duration of instructions on a qubit\n",
    "\n",
    "dt_in_s = backend.configuration().dt\n",
    "Reset_duration = transpiler.InstructionDurations.from_backend(backend).get(\"reset\",0)\n",
    "I_duration     = transpiler.InstructionDurations.from_backend(backend).get(\"id\",3)\n",
    "Z_duration     = transpiler.InstructionDurations.from_backend(backend).get(\"rz\",0)\n",
    "SX_duration    = transpiler.InstructionDurations.from_backend(backend).get(\"sx\",1)\n",
    "X_duration     = transpiler.InstructionDurations.from_backend(backend).get(\"x\",1)\n",
    "Y_duration     = 3*Z_duration + 2*SX_duration\n",
    "H_duration     = 2*Z_duration + SX_duration\n",
    "Measurement_duration = transpiler.InstructionDurations.from_backend(backend).get(\"measure\",1)\n",
    "Measurement_duration3 = transpiler.InstructionDurations.from_backend(backend).get(\"measure\",3)\n",
    "\n",
    "# Print the durations\n",
    "\n",
    "print(\"{: >31} {: >29} {: >25}\".format(\"Time scale of the backend: dt =\", str(dt_in_s*1e6)+\" us =\", str(dt_in_s*1e9)+\" ns\\n\"))\n",
    "print(\"{: >31} {: >29} {: >24}\".format(\"I gate duration =\", str(dt_in_s*I_duration*1e6)+\" us =\", str(I_duration)+\" dt\"))\n",
    "print(\"{: >31} {: >29} {: >24}\".format(\"Z gate duration =\", str(dt_in_s*Z_duration*1e6)+\" us =\", str(Z_duration)+\" dt\"))\n",
    "print(\"{: >31} {: >29} {: >24}\".format(\"SX gate duration =\", str(dt_in_s*SX_duration*1e6)+\" us =\", str(SX_duration)+\" dt\"))\n",
    "print(\"{: >31} {: >29} {: >24}\".format(\"X gate duration =\", str(dt_in_s*X_duration*1e6)+\" us =\", str(X_duration)+\" dt\"))\n",
    "print(\"{: >31} {: >29} {: >24}\".format(\"Y gate duration =\", str(dt_in_s*Y_duration*1e6)+\" us =\", str(Y_duration)+\" dt\"))\n",
    "print(\"{: >31} {: >29} {: >24}\".format(\"H gate duration =\", str(dt_in_s*H_duration*1e6)+\" us =\", str(H_duration)+\" dt\"))\n",
    "print(\"{: >31} {: >29} {: >24}\".format(\"Measurement duration q1 =\", str(dt_in_s*Measurement_duration*1e6)+\" us =\", str(Measurement_duration)+\" dt\"))\n",
    "print(\"{: >31} {: >29} {: >24}\".format(\"Measurement duration q3 =\", str(dt_in_s*Measurement_duration3*1e6)+\" us =\", str(Measurement_duration3)+\" dt\"))\n",
    "\n",
    "print()\n",
    "\n",
    "# Get and print the duration of the CNOT gates for each connected qubit pair\n",
    "\n",
    "CNOT_durations = [] # Will be in dt units\n",
    "for pair in backend.configuration().coupling_map:\n",
    "    CNOT_pair_duration = transpiler.InstructionDurations.from_backend(backend).get(\"cx\",pair)\n",
    "    CNOT_durations.append([str(pair),CNOT_pair_duration])\n",
    "    print(\"{: >31} {: >29} {: >24}\".format(\"CNOT \" + str(pair) + \" gate duration =\", str(dt_in_s*CNOT_pair_duration*1e6)+\" us =\", str(CNOT_pair_duration)+\" dt\"))\n",
    "CNOT_durations = dict(CNOT_durations)"
   ]
  },
  {
   "cell_type": "markdown",
   "id": "bea5b9b5",
   "metadata": {},
   "source": [
    "# Hamiltionian of the device"
   ]
  },
  {
   "cell_type": "code",
   "execution_count": 8,
   "id": "463216c0",
   "metadata": {
    "scrolled": true
   },
   "outputs": [
    {
     "data": {
      "text/plain": [
       "{'description': 'Qubits are modeled as Duffing oscillators. In this case, the system includes higher energy states, i.e. not just |0> and |1>. The Pauli operators are generalized via the following set of transformations:\\n\\n$(\\\\mathbb{I}-\\\\sigma_{i}^z)/2 \\\\rightarrow O_i \\\\equiv b^\\\\dagger_{i} b_{i}$,\\n\\n$\\\\sigma_{+} \\\\rightarrow b^\\\\dagger$,\\n\\n$\\\\sigma_{-} \\\\rightarrow b$,\\n\\n$\\\\sigma_{i}^X \\\\rightarrow b^\\\\dagger_{i} + b_{i}$.\\n\\nQubits are coupled through resonator buses. The provided Hamiltonian has been projected into the zero excitation subspace of the resonator buses leading to an effective qubit-qubit flip-flop interaction. The qubit resonance frequencies in the Hamiltonian are the cavity dressed frequencies and not exactly what is returned by the backend defaults, which also includes the dressing due to the qubit-qubit interactions.\\n\\nQuantities are returned in angular frequencies, with units 2*pi*GHz.\\n\\nWARNING: Currently not all system Hamiltonian information is available to the public, missing values have been replaced with 0.\\n',\n",
       " 'h_latex': '\\\\begin{align} \\\\mathcal{H}/\\\\hbar = & \\\\sum_{i=0}^{4}\\\\left(\\\\frac{\\\\omega_{q,i}}{2}(\\\\mathbb{I}-\\\\sigma_i^{z})+\\\\frac{\\\\Delta_{i}}{2}(O_i^2-O_i)+\\\\Omega_{d,i}D_i(t)\\\\sigma_i^{X}\\\\right) \\\\\\\\ & + J_{0,1}(\\\\sigma_{0}^{+}\\\\sigma_{1}^{-}+\\\\sigma_{0}^{-}\\\\sigma_{1}^{+}) + J_{1,2}(\\\\sigma_{1}^{+}\\\\sigma_{2}^{-}+\\\\sigma_{1}^{-}\\\\sigma_{2}^{+}) + J_{1,3}(\\\\sigma_{1}^{+}\\\\sigma_{3}^{-}+\\\\sigma_{1}^{-}\\\\sigma_{3}^{+}) + J_{3,4}(\\\\sigma_{3}^{+}\\\\sigma_{4}^{-}+\\\\sigma_{3}^{-}\\\\sigma_{4}^{+}) \\\\\\\\ & + \\\\Omega_{d,0}(U_{0}^{(0,1)}(t))\\\\sigma_{0}^{X} + \\\\Omega_{d,1}(U_{1}^{(1,0)}(t)+U_{3}^{(1,3)}(t)+U_{2}^{(1,2)}(t))\\\\sigma_{1}^{X} \\\\\\\\ & + \\\\Omega_{d,2}(U_{4}^{(2,1)}(t))\\\\sigma_{2}^{X} + \\\\Omega_{d,3}(U_{6}^{(3,4)}(t)+U_{5}^{(3,1)}(t))\\\\sigma_{3}^{X} \\\\\\\\ & + \\\\Omega_{d,4}(U_{7}^{(4,3)}(t))\\\\sigma_{4}^{X} \\\\\\\\ \\\\end{align}',\n",
       " 'h_str': ['_SUM[i,0,4,wq{i}/2*(I{i}-Z{i})]',\n",
       "  '_SUM[i,0,4,delta{i}/2*O{i}*O{i}]',\n",
       "  '_SUM[i,0,4,-delta{i}/2*O{i}]',\n",
       "  '_SUM[i,0,4,omegad{i}*X{i}||D{i}]',\n",
       "  'jq0q1*Sp0*Sm1',\n",
       "  'jq0q1*Sm0*Sp1',\n",
       "  'jq1q2*Sp1*Sm2',\n",
       "  'jq1q2*Sm1*Sp2',\n",
       "  'jq1q3*Sp1*Sm3',\n",
       "  'jq1q3*Sm1*Sp3',\n",
       "  'jq3q4*Sp3*Sm4',\n",
       "  'jq3q4*Sm3*Sp4',\n",
       "  'omegad1*X0||U0',\n",
       "  'omegad0*X1||U1',\n",
       "  'omegad3*X1||U3',\n",
       "  'omegad2*X1||U2',\n",
       "  'omegad1*X2||U4',\n",
       "  'omegad4*X3||U6',\n",
       "  'omegad1*X3||U5',\n",
       "  'omegad3*X4||U7'],\n",
       " 'osc': {},\n",
       " 'qub': {'0': 3, '1': 3, '2': 3, '3': 3, '4': 3},\n",
       " 'vars': {'delta0': -2109526390.232452,\n",
       "  'delta1': -2000246532.4219205,\n",
       "  'delta2': -2096093619.9138844,\n",
       "  'delta3': -2081254439.3432896,\n",
       "  'delta4': -2101534832.5639515,\n",
       "  'jq0q1': 11088625.669671271,\n",
       "  'jq1q2': 11792549.39343634,\n",
       "  'jq1q3': 11913891.984976945,\n",
       "  'jq3q4': 11656329.753118027,\n",
       "  'omegad0': 1604860123.97347,\n",
       "  'omegad1': 1307522166.2480435,\n",
       "  'omegad2': 1397592036.769036,\n",
       "  'omegad3': 1488580252.6615512,\n",
       "  'omegad4': 1492719011.8104854,\n",
       "  'wq0': 31602817995.426403,\n",
       "  'wq1': 32218473876.010777,\n",
       "  'wq2': 32970104554.595905,\n",
       "  'wq3': 33317715008.107113,\n",
       "  'wq4': 31994195341.35736}}"
      ]
     },
     "execution_count": 8,
     "metadata": {},
     "output_type": "execute_result"
    }
   ],
   "source": [
    "# Get the information about the device Hamiltonian\n",
    "backend.configuration().hamiltonian"
   ]
  },
  {
   "cell_type": "code",
   "execution_count": 9,
   "id": "4cb1303b",
   "metadata": {},
   "outputs": [
    {
     "data": {
      "text/latex": [
       "$\\displaystyle \\begin{align} \\mathcal{H}/\\hbar = & \\sum_{i=0}^{4}\\left(\\frac{\\omega_{q,i}}{2}(\\mathbb{I}-\\sigma_i^{z})+\\frac{\\Delta_{i}}{2}(O_i^2-O_i)+\\Omega_{d,i}D_i(t)\\sigma_i^{X}\\right) \\\\ & + J_{0,1}(\\sigma_{0}^{+}\\sigma_{1}^{-}+\\sigma_{0}^{-}\\sigma_{1}^{+}) + J_{1,2}(\\sigma_{1}^{+}\\sigma_{2}^{-}+\\sigma_{1}^{-}\\sigma_{2}^{+}) + J_{1,3}(\\sigma_{1}^{+}\\sigma_{3}^{-}+\\sigma_{1}^{-}\\sigma_{3}^{+}) + J_{3,4}(\\sigma_{3}^{+}\\sigma_{4}^{-}+\\sigma_{3}^{-}\\sigma_{4}^{+}) \\\\ & + \\Omega_{d,0}(U_{0}^{(0,1)}(t))\\sigma_{0}^{X} + \\Omega_{d,1}(U_{1}^{(1,0)}(t)+U_{3}^{(1,3)}(t)+U_{2}^{(1,2)}(t))\\sigma_{1}^{X} \\\\ & + \\Omega_{d,2}(U_{4}^{(2,1)}(t))\\sigma_{2}^{X} + \\Omega_{d,3}(U_{6}^{(3,4)}(t)+U_{5}^{(3,1)}(t))\\sigma_{3}^{X} \\\\ & + \\Omega_{d,4}(U_{7}^{(4,3)}(t))\\sigma_{4}^{X} \\\\ \\end{align}$"
      ],
      "text/plain": [
       "<IPython.core.display.Math object>"
      ]
     },
     "metadata": {},
     "output_type": "display_data"
    },
    {
     "data": {
      "text/latex": [
       "$\\displaystyle (\\mathbb{I}-\\sigma_{i}^z)/2 \\rightarrow O_i \\equiv b^\\dagger_{i} b_{i}$,\n",
       "\n",
       "$\\sigma_{+} \\rightarrow b^\\dagger$,\n",
       "\n",
       "$\\sigma_{-} \\rightarrow b$,\n",
       "\n",
       "$\\sigma_{i}^X \\rightarrow b^\\dagger_{i} + b_{i}$"
      ],
      "text/plain": [
       "<IPython.core.display.Math object>"
      ]
     },
     "metadata": {},
     "output_type": "display_data"
    }
   ],
   "source": [
    "# Print the Hamiltonian nicely\n",
    "display(Math(backend.configuration().hamiltonian[\"h_latex\"])) \n",
    "# Print nicely the transformations used in the Hamiltonian\n",
    "display(Math(\"$(\\\\mathbb{I}-\\\\sigma_{i}^z)/2 \\\\rightarrow O_i \\\\equiv b^\\\\dagger_{i} b_{i}$,\\n\\n$\\\\sigma_{+} \\\\rightarrow b^\\\\dagger$,\\n\\n$\\\\sigma_{-} \\\\rightarrow b$,\\n\\n$\\\\sigma_{i}^X \\\\rightarrow b^\\\\dagger_{i} + b_{i}$\"))"
   ]
  },
  {
   "cell_type": "markdown",
   "id": "f70625c4",
   "metadata": {},
   "source": [
    "# Topology/connectivity"
   ]
  },
  {
   "cell_type": "code",
   "execution_count": 10,
   "id": "5f6756de",
   "metadata": {},
   "outputs": [
    {
     "data": {
      "image/png": "[encoded data removed]",
      "text/plain": [
       "<Figure size 360x360 with 1 Axes>"
      ]
     },
     "execution_count": 10,
     "metadata": {},
     "output_type": "execute_result"
    }
   ],
   "source": [
    "# Plot a Gate Map for the device.\n",
    "\"\"\" \n",
    "# For LaTeX font\n",
    "plt.rcParams.update({\n",
    "    \"text.usetex\": True,\n",
    "    \"font.family\": \"serif\",\n",
    "    \"font.weight\": \"bold\",\n",
    "    \"font.sans-serif\": [\"Computer Modern Roman\"]})\n",
    "\"\"\"\n",
    "#plt.rcdefaults()\n",
    "fig = plot_gate_map(backend, plot_directed=False, font_color=\"white\", qubit_color=[\"black\"]*5, line_color=[\"black\"]*8)#, font_size=32)\n",
    "#fig.savefig(r'gate_map_lima.pdf')\n",
    "fig"
   ]
  },
  {
   "cell_type": "markdown",
   "id": "d3864eb3",
   "metadata": {},
   "source": [
    "# Calibrations"
   ]
  },
  {
   "cell_type": "code",
   "execution_count": 11,
   "id": "82111918",
   "metadata": {},
   "outputs": [],
   "source": [
    "# Get the historical calibrations data.\n",
    "\n",
    "dates = []\n",
    "for i in range(10, 16+1):\n",
    "    if i==15:\n",
    "        dates.append(datetime(day=i, month=8, year=2022, hour=0))\n",
    "    else:\n",
    "        for h in [0, 3, 6, 9, 12, 15, 18, 21]:\n",
    "            dates.append(datetime(day=i, month=8, year=2022, hour=h))\n",
    "\n",
    "historical_backend_props = []\n",
    "for date in dates:\n",
    "    historical_backend_props.append(backend.properties(datetime=date))\n",
    "\n",
    "# Retrieve the data.\n",
    "\n",
    "T1s = []\n",
    "T2s = []\n",
    "\n",
    "for i in range(len(dates)):\n",
    "    T1s.append(1e6*np.average([\n",
    "        historical_backend_props[i].t1(0),\n",
    "        historical_backend_props[i].t1(1),\n",
    "        historical_backend_props[i].t1(2),\n",
    "        historical_backend_props[i].t1(3),\n",
    "        historical_backend_props[i].t1(4)\n",
    "        ]))\n",
    "    T2s.append(1e6*np.average([\n",
    "        historical_backend_props[i].t2(0),\n",
    "        historical_backend_props[i].t2(1),\n",
    "        historical_backend_props[i].t2(2),\n",
    "        historical_backend_props[i].t2(3),\n",
    "        historical_backend_props[i].t2(4)\n",
    "        ]))\n",
    "\n",
    "backend_data = [T1s, T2s]"
   ]
  },
  {
   "cell_type": "code",
   "execution_count": 12,
   "id": "e6b6dfa5",
   "metadata": {},
   "outputs": [
    {
     "data": {
      "image/png": "[encoded data removed]",
      "text/plain": [
       "<Figure size 561.6x208.8 with 1 Axes>"
      ]
     },
     "metadata": {
      "needs_background": "light"
     },
     "output_type": "display_data"
    }
   ],
   "source": [
    "fig, ax = plt.subplots(figsize=(7.8,2.9), ncols=1, nrows=1, sharex=True)\n",
    "\n",
    "xaxis = np.arange(len(dates))\n",
    "xaxis_fill = np.arange(2*len(dates))/2\n",
    "xticklabels_list = [str(dates[i])[5:-9] for i in range(len(dates))]\n",
    "for i in range(len(xticklabels_list)):\n",
    "    xticklabels_list[i] = xticklabels_list[i]+\"-22\"\n",
    "\n",
    "plotted_qubits = [0,4]\n",
    "colors = [\"C0\", \"C1\"]\n",
    "fs = 12\n",
    "\n",
    "T1, T2 = backend_data\n",
    "    \n",
    "ax.set_xticks(xaxis[::8])\n",
    "ax.set_xticklabels(xticklabels_list[::8], rotation=0)\n",
    "ax.set_xlabel(r\"Date (MM/DD/YY)\", fontsize=fs)\n",
    "ax.set_ylabel(\"Coherence Time (μs)\", fontsize=fs)\n",
    "\n",
    "ax.set_title(r\"Calibrations of $\\it{ibmq\\_lima}$\", fontsize=fs+1)\n",
    "\n",
    "ax.step(xaxis, T1, \n",
    "        where=\"mid\", \n",
    "        marker=\"o\", markerfacecolor=colors[0], markeredgecolor=\"darkblue\", markersize=5, markeredgewidth=1, \n",
    "        label=r\"Average $T_1$\", \n",
    "        color=colors[0], \n",
    "        alpha=1, \n",
    "        lw=2)\n",
    "\n",
    "ax.step(xaxis, T2, \n",
    "        where=\"mid\", \n",
    "        marker=\"o\", markerfacecolor=colors[1], markeredgecolor=\"darkred\", markersize=5, markeredgewidth=1, \n",
    "        label=r\"Average $T_2$\", \n",
    "        color=colors[1], \n",
    "        alpha=1, \n",
    "        lw=2)\n",
    "\n",
    "ax.fill_between(xaxis_fill[len(xaxis_fill)//2-17:len(xaxis_fill)//2+16], 0, 200, \n",
    "                color=\"skyblue\", \n",
    "                alpha=0.35, \n",
    "                zorder=1)\n",
    "\n",
    "ax.set_ylim(ymin=50, ymax=110)   \n",
    "ax.set_xlim((-0.5,len(dates)-0.5))\n",
    "ax.legend(framealpha=1, ncol=len(plotted_qubits), fontsize=fs-1)\n",
    "ax.grid(ls=\"--\", alpha=0.5)\n",
    "ax.tick_params(axis='both', labelsize=fs-1)\n",
    "    \n",
    "plt.tight_layout()\n",
    "plt.show()\n",
    "#plt.savefig(r\"lima_calibrations.pdf\")"
   ]
  },
  {
   "cell_type": "markdown",
   "id": "ec001fac",
   "metadata": {},
   "source": [
    "# Single-qubit properties (Table 1)"
   ]
  },
  {
   "cell_type": "code",
   "execution_count": 13,
   "id": "11557da0",
   "metadata": {},
   "outputs": [
    {
     "name": "stdout",
     "output_type": "stream",
     "text": [
      "0 & 54.89 & 132.21 & 5.03 & -0.335742 & 0.0207 & 0.000425 \\\\\n",
      "1 & 91.51 & 106.43 & 5.128 & -0.318349 & 0.0152 & 0.000555 \\\\\n",
      "2 & 72.49 & 105.08 & 5.247 & -0.333604 & 0.0232 & 0.000673 \\\\\n",
      "3 & 67.27 & 80.2 & 5.303 & -0.331242 & 0.0312 & 0.000288 \\\\\n",
      "4 & 21.93 & 27.24 & 5.092 & -0.33447 & 0.0517 & 0.000631 \\\\\n"
     ]
    }
   ],
   "source": [
    "date = datetime(day=13, month=8, year=2022, hour=12)\n",
    "props = backend.properties(datetime=date)\n",
    "\n",
    "qubits = [0,1,2,3,4]\n",
    "for q in qubits:\n",
    "    # Print for LaTeX\n",
    "    print(str(q) \n",
    "          + \" & \" + str(np.round(props.t1(q)*1e6,2))\n",
    "          + \" & \" + str(np.round(props.t2(q)*1e6,2))\n",
    "          + \" & \" + str(np.round(props.frequency(q)*1e-9,3))\n",
    "          + \" & \" + str(np.round(props.qubits[q][3].value,6))\n",
    "          + \" & \" + str(np.round(props.readout_error(q),6))\n",
    "          + \" & \" + str(np.round(props.gate_error(\"x\",q),6)) \n",
    "          + r\" \\\\\"\n",
    "          )"
   ]
  },
  {
   "cell_type": "markdown",
   "id": "15bfd3ea",
   "metadata": {},
   "source": [
    "# Pulses (Fig. 3)"
   ]
  },
  {
   "cell_type": "code",
   "execution_count": 14,
   "id": "f25f9c45",
   "metadata": {},
   "outputs": [],
   "source": [
    "# Define a custom style for the plots (colors, fontsize, etc)\n",
    "my_style = {\n",
    "    'formatter.general.fig_width': 20,\n",
    "    \"formatter.text_size.frame_change\":22,\n",
    "    \"formatter.text_size.annotate\": 12,\n",
    "    \"formatter.text_size.gate_name\": 15,\n",
    "    \"formatter.color.gates\":\n",
    "        {\n",
    "        'cx': '#6FA4FF',\n",
    "        'x': '#DC143C',\n",
    "        'sx': '#DC143C',\n",
    "        'reset': '#a0a0a0',\n",
    "        'measure': '#a0a0a0' \n",
    "        },\n",
    "    \"formatter.color.waveforms\":\n",
    "    {\n",
    "    'W': ['#648fff', '#002999'],\n",
    "    'D': ['#648fff', '#002999'],\n",
    "    'U': ['#ffb000', '#994A00'],\n",
    "    'M': ['#dc267f', '#760019'],\n",
    "    'A': ['#dc267f', '#760019']\n",
    "    },\n",
    "    \"formatter.text_size.fig_title\":14,\n",
    "    \"formatter.text_size.axis_label\":14,\n",
    "}\n",
    "\n",
    "style = IQXStandard(**my_style)"
   ]
  },
  {
   "cell_type": "markdown",
   "id": "71a1b602",
   "metadata": {},
   "source": [
    "### Y gate"
   ]
  },
  {
   "cell_type": "code",
   "execution_count": 15,
   "id": "8c775215",
   "metadata": {},
   "outputs": [
    {
     "data": {
      "image/png": "[encoded data removed]",
      "text/plain": [
       "<Figure size 576x216 with 1 Axes>"
      ]
     },
     "execution_count": 15,
     "metadata": {},
     "output_type": "execute_result"
    }
   ],
   "source": [
    "qc = QuantumCircuit(1, name=\"Y gate\")\n",
    "qc.y(0)\n",
    "qc = transpile(qc, backend, optimization_level=0)\n",
    "sched = schedule(qc, backend)\n",
    "\n",
    "dt=2/9 #ns\n",
    "\n",
    "fig, ax = plt.subplots(figsize=(8,3))\n",
    "ax.axvline(0, ls=\"--\", alpha=0.2, c=\"k\", lw=2)\n",
    "ax.axvline(320, ls=\"--\", alpha=0.2, c=\"k\", lw=2)\n",
    "plt.tight_layout()\n",
    "ax.annotate(\"$71.1$\", (320,-1.75), fontsize=11, ha='center',annotation_clip=False)\n",
    "ax.annotate(r\"$\\blacktriangle$\", (320//4,-1.23), fontsize=12, ha='center')\n",
    "ax.annotate(\"$-0.06$\", (320//4-3,-1.43), fontsize=12, ha='center')\n",
    "ax.annotate(r\"$\\blacktriangle$\", (3*320//4,-1.23), fontsize=12, ha='center')\n",
    "ax.annotate(\"$-0.06$\", (3*320//4-3,-1.43), fontsize=12, ha='center')\n",
    "#fig.suptitle(\"Duration: 71.1 ns. Backend: ibmq_lima\")\n",
    "draw(sched, backend=backend, style=style, \n",
    "     plotter=\"mpl2d\", axis=ax, show_snapshot=True, \n",
    "     show_waveform_info=True, time_range=(-5,325))#.savefig(r\"YgatePulseSchedule.svg\")\n"
   ]
  },
  {
   "cell_type": "markdown",
   "id": "8f39d76d",
   "metadata": {},
   "source": [
    "### X gate"
   ]
  },
  {
   "cell_type": "code",
   "execution_count": 16,
   "id": "bbb26875",
   "metadata": {},
   "outputs": [
    {
     "data": {
      "image/png": "[encoded data removed]",
      "text/plain": [
       "<Figure size 360x216 with 1 Axes>"
      ]
     },
     "execution_count": 16,
     "metadata": {},
     "output_type": "execute_result"
    }
   ],
   "source": [
    "qc = QuantumCircuit(1, name=\"X gate\")\n",
    "qc.x(0)\n",
    "qc = transpile(qc, backend, optimization_level=0)\n",
    "sched = schedule(qc, backend)\n",
    "\n",
    "dt=2/9 #ns\n",
    "\n",
    "fig, ax = plt.subplots(figsize=(5,3))\n",
    "ax.axvline(0, ls=\"--\", alpha=0.2, c=\"k\", lw=2)\n",
    "ax.axvline(160, ls=\"--\", alpha=0.2, c=\"k\", lw=2)\n",
    "plt.tight_layout()\n",
    "ax.annotate(\"$35.6$\", (160,-1.75), fontsize=11, ha='center',annotation_clip=False)\n",
    "ax.annotate(r\"$\\blacktriangledown$\", (160//2-1,0.02), fontsize=12, ha='center')\n",
    "ax.annotate(\"$0.12$\", (160//2-1,0.21), fontsize=12, ha='center')\n",
    "draw(sched, backend=backend, style=style, \n",
    "     plotter=\"mpl2d\", axis=ax, show_snapshot=True, \n",
    "     show_waveform_info=True, time_range=(-5,165))#.savefig(r\"XgatePulseSchedule.svg\")"
   ]
  },
  {
   "cell_type": "code",
   "execution_count": null,
   "id": "0d649c29",
   "metadata": {},
   "outputs": [],
   "source": []
  }
 ],
 "metadata": {
  "kernelspec": {
   "display_name": "Python 3 (ipykernel)",
   "language": "python",
   "name": "python3"
  },
  "language_info": {
   "codemirror_mode": {
    "name": "ipython",
    "version": 3
   },
   "file_extension": ".py",
   "mimetype": "text/x-python",
   "name": "python",
   "nbconvert_exporter": "python",
   "pygments_lexer": "ipython3",
   "version": "3.10.4"
  }
 },
 "nbformat": 4,
 "nbformat_minor": 5
}
